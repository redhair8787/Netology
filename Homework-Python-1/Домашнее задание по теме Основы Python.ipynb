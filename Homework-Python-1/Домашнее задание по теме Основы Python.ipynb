{
 "cells": [
  {
   "cell_type": "code",
   "execution_count": null,
   "metadata": {},
   "outputs": [],
   "source": [
    "# Домашнее задание по теме «Основы Python»"
   ]
  },
  {
   "cell_type": "code",
   "execution_count": null,
   "metadata": {},
   "outputs": [],
   "source": [
    "# Задание 1"
   ]
  },
  {
   "cell_type": "code",
   "execution_count": 1,
   "metadata": {},
   "outputs": [
    {
     "name": "stdout",
     "output_type": "stream",
     "text": [
      "Фраза 1 длиннее фразы 2\n"
     ]
    }
   ],
   "source": [
    "phrase_1 = 'Насколько проще было бы писать программы, если бы не заказчики'\n",
    "phrase_2 = '640Кб должно хватить для любых задач. Билл Гейтс (по легенде)'\n",
    "if len (phrase_1) > len (phrase_2):\n",
    "    print('Фраза 1 длиннее фразы 2')\n",
    "elif len (phrase_1) < len (phrase_2):\n",
    "    print ('Фраза 2 длиннее фразы 1')\n",
    "else:\n",
    "    print ('Фразы равной длины')\n"
   ]
  },
  {
   "cell_type": "code",
   "execution_count": 4,
   "metadata": {},
   "outputs": [],
   "source": [
    "# Задание 2"
   ]
  },
  {
   "cell_type": "code",
   "execution_count": 4,
   "metadata": {},
   "outputs": [
    {
     "name": "stdout",
     "output_type": "stream",
     "text": [
      "Високосный год\n"
     ]
    }
   ],
   "source": [
    "year = 2020\n",
    "if (year % 4 == 0) and (year % 100 != 0) or (year % 400 == 0):\n",
    "    print ('Високосный год')\n",
    "else:\n",
    "    print ('Обычный год')\n",
    "        "
   ]
  },
  {
   "cell_type": "code",
   "execution_count": null,
   "metadata": {},
   "outputs": [],
   "source": [
    "# Задание 3"
   ]
  },
  {
   "cell_type": "code",
   "execution_count": 3,
   "metadata": {},
   "outputs": [
    {
     "name": "stdout",
     "output_type": "stream",
     "text": [
      "Введите день  18\n",
      "Введите месяц  Август\n",
      "Знак зодиака:Лев\n"
     ]
    }
   ],
   "source": [
    "day = int(input('Введите день  '))\n",
    "month = input('Введите месяц  ')\n",
    "if (day>=21 and day<=31 and month=='Март') or (month=='Апрель' and day>=1 and day<=20):\n",
    "    print (\"Знак зодиака:Овен\")\n",
    "elif (day>=21 and day<=30 and month=='Апрель') or( month=='Май' and day>=1 and day<=20):\n",
    "    print (\"Знак зодиака:Телец\")\n",
    "elif (day>=21 and day<=31 and month=='Май') or( month=='Июнь' and day>=1 and day<=20):\n",
    "    print (\"Знак зодиака:Близнецы\")\n",
    "elif (day>=21 and day<=30 and month=='Июнь') or( month=='Июль' and day>=1 and day<=22):\n",
    "    print (\"Знак зодиака:Рак\")\n",
    "elif (day>=23 and day<=31 and month=='Июль') or( month=='Август' and day>=1 and day<=22):\n",
    "    print (\"Знак зодиака:Лев\")\n",
    "elif (day>=23 and day<=31 and month=='Август') or( month=='Сентябрь' and day>=1 and day<=23):\n",
    "    print (\"Знак зодиака:Дева\")\n",
    "elif (day>=24 and day<=30 and month=='Сентябрь') or( month=='Октябрь' and day>=1 and day<=23):\n",
    "    print (\"Знак зодиака:Весы\")\n",
    "elif (day>=24 and day<=31 and month=='Октябрь') or( month=='Ноябрь' and day>=1 and day<=21):\n",
    "    print (\"Знак зодиака:Скорпион\")\n",
    "elif (day>=22 and day<=30 and month=='Ноябрь') or( month=='Декабрь' and day>=1 and day<=21):\n",
    "    print (\"Знак зодиака:Стрелец\")\n",
    "elif (day>=22 and day<=31 and month=='Декабрь') or( month=='Январь' and day>=1 and day<=19):\n",
    "    print (\"Знак зодиака:Козерог\")\n",
    "elif (day>=20 and day<=31 and month=='Январь') or( month=='Февраль' and day>=1 and day<=18):\n",
    "    print (\"Знак зодиака:Водолей\")\n",
    "elif (day>=19 and day<=29 and month=='Февраль') or( month=='Март' and day>=1 and day<=20):\n",
    "    print (\"Знак зодиака:Рыбы\")\n"
   ]
  },
  {
   "cell_type": "code",
   "execution_count": 20,
   "metadata": {},
   "outputs": [],
   "source": [
    "# Задание 4"
   ]
  },
  {
   "cell_type": "code",
   "execution_count": 2,
   "metadata": {},
   "outputs": [
    {
     "name": "stdout",
     "output_type": "stream",
     "text": [
      "Введите ширину в сантиметрах  45\n",
      "Введите длину в сантиметрах  205\n",
      "Введите высоту в сантиметрах  45\n",
      "Упаковка для лыж\n"
     ]
    }
   ],
   "source": [
    "width = int(input('Введите ширину в сантиметрах  '))\n",
    "length = int(input('Введите длину в сантиметрах  '))\n",
    "height = int(input('Введите высоту в сантиметрах  '))\n",
    "if length >200:\n",
    "    print (\"Упаковка для лыж\")\n",
    "elif  (width > 15 and width <50) or (length>15 and length<50) or (height>15 and height<50):\n",
    "    print (\"Коробка №2\")\n",
    "elif width < 15 and length < 15 and height < 15:\n",
    "    print (\"Коробка №1\")\n",
    "else:\n",
    "    print (\"Стандартная коробка №3\")"
   ]
  },
  {
   "cell_type": "code",
   "execution_count": 22,
   "metadata": {},
   "outputs": [],
   "source": [
    "# Задание 5"
   ]
  },
  {
   "cell_type": "code",
   "execution_count": 6,
   "metadata": {},
   "outputs": [
    {
     "name": "stdout",
     "output_type": "stream",
     "text": [
      "Введите номер проездного билета из 6 цифр  123321\n",
      "Счастливый билет\n"
     ]
    }
   ],
   "source": [
    "number=input('Введите номер проездного билета из 6 цифр  ')\n",
    "sum1=int(number[0])+int(number[1])+int(number[2])\n",
    "sum2=int(number[3])+int(number[4])+int(number[5])\n",
    "if sum1==sum2:\n",
    "    print(\"Счастливый билет\")\n",
    "else:\n",
    "    print(\"Несчастливый билет\")"
   ]
  },
  {
   "cell_type": "code",
   "execution_count": 30,
   "metadata": {},
   "outputs": [],
   "source": [
    "# Задание 6"
   ]
  },
  {
   "cell_type": "code",
   "execution_count": 13,
   "metadata": {},
   "outputs": [
    {
     "name": "stdout",
     "output_type": "stream",
     "text": [
      "Введите тип фигуры  Прямоугольник\n",
      "Введите длину стороны A  5\n",
      "Введите длину стороны B  4\n",
      "Площадь прямоугольника:  20\n"
     ]
    }
   ],
   "source": [
    "tip = input('Введите тип фигуры  ')\n",
    "import math\n",
    "\n",
    "if tip == 'Круг':\n",
    "    radiys = int(input('Введите радиус круга  '))\n",
    "    print('Площадь круга: ', math.pi * (radiys ** 2))\n",
    "    \n",
    "elif tip == 'Треугольник':\n",
    "    a = int(input('Введите длину стороны A  '))\n",
    "    b = int(input('Введите длину стороны B  '))\n",
    "    c = int(input('Введите длину стороны C  '))\n",
    "    p= (a+b+c)/2\n",
    "    print ('Площадь треугольника: ', math.sqrt( (p * (p - a)*(p - b)*(p - c))))\n",
    "elif tip == 'Прямоугольник':\n",
    "    d= int(input('Введите длину стороны A  '))\n",
    "    e =int(input('Введите длину стороны B  '))\n",
    "    print ('Площадь прямоугольника: ',d*e)\n",
    "\n",
    "\n",
    "    \n",
    "    \n",
    "     \n",
    "    "
   ]
  },
  {
   "cell_type": "code",
   "execution_count": null,
   "metadata": {},
   "outputs": [],
   "source": []
  },
  {
   "cell_type": "code",
   "execution_count": null,
   "metadata": {},
   "outputs": [],
   "source": []
  }
 ],
 "metadata": {
  "kernelspec": {
   "display_name": "Python 3",
   "language": "python",
   "name": "python3"
  },
  "language_info": {
   "codemirror_mode": {
    "name": "ipython",
    "version": 3
   },
   "file_extension": ".py",
   "mimetype": "text/x-python",
   "name": "python",
   "nbconvert_exporter": "python",
   "pygments_lexer": "ipython3",
   "version": "3.8.3"
  }
 },
 "nbformat": 4,
 "nbformat_minor": 4
}
