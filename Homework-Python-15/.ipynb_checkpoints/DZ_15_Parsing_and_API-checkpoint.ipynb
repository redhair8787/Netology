{
 "cells": [
  {
   "cell_type": "markdown",
   "metadata": {},
   "source": [
    "Задание 1.\n",
    "Обязательная часть\n",
    "Будем парсить страницу со свежеми новостям на habr.com/ru/all/.\n",
    "\n",
    "Вам необходимо собирать только те статьи, в которых встречается хотя бы одно требуемое ключевое слово. Эти слова определяем в начале кода в переменной, например:\n",
    "\n",
    "KEYWORDS = ['python', 'парсинг']\n",
    "\n",
    "Поиск вести по всей доступной preview-информации (это информация, доступная непосредственно с текущей страницы).\n",
    "\n",
    "В итоге должен формироваться датафрейм вида: <дата> - <заголовок> - <ссылка>\n",
    "\n",
    "Дополнительная часть (необязательная)\n",
    "Улучшить скрипт так, чтобы он анализировал не только preview-информацию статьи, но и весь текст статьи целиком.\n",
    "\n",
    "Для этого потребуется получать страницы статей и искать по тексту внутри этой страницы.\n",
    "\n",
    "Итоговый датафрейм формировать со столбцами: <дата> - <заголовок> - <ссылка> - <текст_статьи>"
   ]
  },
  {
   "cell_type": "code",
   "execution_count": 1,
   "metadata": {},
   "outputs": [],
   "source": [
    "#Импортируем библиотеки\n",
    "import requests\n",
    "from bs4 import BeautifulSoup\n",
    "import pandas as pd\n",
    "import time\n",
    "time.sleep(0.3)"
   ]
  },
  {
   "cell_type": "code",
   "execution_count": 2,
   "metadata": {},
   "outputs": [],
   "source": [
    "KEYWORDS = ['python', 'парсинг']"
   ]
  },
  {
   "cell_type": "code",
   "execution_count": 3,
   "metadata": {},
   "outputs": [],
   "source": [
    "#Задаем функцию, которая собирает новости по ключевым словам с ресурса\n",
    "def find_keywords_in_habr_posts(keywords):\n",
    "   #Создаем пустой датафрэйм\n",
    "    news = pd.DataFrame()\n",
    "    #Применяем метод get\n",
    "    req = requests.get('https://habr.com/ru/all')\n",
    "    # извлекаем посты\n",
    "    soup = BeautifulSoup(req.text, 'html.parser')\n",
    "    posts = soup.find_all('article', class_='post')\n",
    "   \n",
    "    for post in posts:\n",
    "        #Извлекаем ссылки\n",
    "        next_link = post.find('a', class_='post__title_link').get('href')\n",
    "        href = requests.get(next_link)\n",
    "        href_soup = BeautifulSoup(href.text, 'html.parser')\n",
    "        \n",
    "        #Извлекаем даты, это можно сделать, зайдя по ссылке в соответствующую статью, где у тега span \n",
    "        #с классом 'post__time' есть еще  атрибут 'data-time_published', в котором дата хранится полностью\n",
    "        date = pd.to_datetime(href_soup.find('span', class_ = 'post__time').get('data-time_published'), format='%Y%m%d %H:%M')\n",
    "        \n",
    "        #Извлекаем заголовок\n",
    "        title = href_soup.title.text\n",
    "        \n",
    "        #Извлекаем текст статьи \n",
    "        body = href_soup.find('div', class_ ='post__text').text.strip()\n",
    "        \n",
    "        #Проверяем наличие ключевых слов\n",
    "        for keyword in keywords:\n",
    "            if keyword in title.lower() or keyword in body.lower():\n",
    "                dict_news = {'date': date, 'title': title, 'URL': next_link, 'text': body}\n",
    "                news = pd.concat([news, pd.DataFrame([dict_news])])\n",
    "    return news"
   ]
  },
  {
   "cell_type": "code",
   "execution_count": 4,
   "metadata": {},
   "outputs": [
    {
     "data": {
      "text/html": [
       "<div>\n",
       "<style scoped>\n",
       "    .dataframe tbody tr th:only-of-type {\n",
       "        vertical-align: middle;\n",
       "    }\n",
       "\n",
       "    .dataframe tbody tr th {\n",
       "        vertical-align: top;\n",
       "    }\n",
       "\n",
       "    .dataframe thead th {\n",
       "        text-align: right;\n",
       "    }\n",
       "</style>\n",
       "<table border=\"1\" class=\"dataframe\">\n",
       "  <thead>\n",
       "    <tr style=\"text-align: right;\">\n",
       "      <th></th>\n",
       "      <th>date</th>\n",
       "      <th>title</th>\n",
       "      <th>URL</th>\n",
       "      <th>text</th>\n",
       "    </tr>\n",
       "  </thead>\n",
       "  <tbody>\n",
       "    <tr>\n",
       "      <th>0</th>\n",
       "      <td>2020-12-01 13:28:00+00:00</td>\n",
       "      <td>Введение в обработку изображений в Python при ...</td>\n",
       "      <td>https://habr.com/ru/post/530800/</td>\n",
       "      <td>Бывает такой заходишь на почту и видишь очеред...</td>\n",
       "    </tr>\n",
       "  </tbody>\n",
       "</table>\n",
       "</div>"
      ],
      "text/plain": [
       "                       date  \\\n",
       "0 2020-12-01 13:28:00+00:00   \n",
       "\n",
       "                                               title  \\\n",
       "0  Введение в обработку изображений в Python при ...   \n",
       "\n",
       "                                URL  \\\n",
       "0  https://habr.com/ru/post/530800/   \n",
       "\n",
       "                                                text  \n",
       "0  Бывает такой заходишь на почту и видишь очеред...  "
      ]
     },
     "execution_count": 4,
     "metadata": {},
     "output_type": "execute_result"
    }
   ],
   "source": [
    "find_keywords_in_habr_posts(KEYWORDS)"
   ]
  },
  {
   "cell_type": "markdown",
   "metadata": {},
   "source": [
    "Задание 2.\n",
    "Обязательная часть\n",
    "Написать скрипт, который будет проверять список e-mail адресов на утечку при помощи сервиса Avast Hack Ckeck. Список email-ов задаем переменной в начале кода:\n",
    "EMAIL = [xxx@x.ru, yyy@y.com]\n",
    "\n",
    "В итоге должен формироваться датафрейм со столбцами: <почта> - <дата утечки> - <источник утечки> - <описание утечки>\n",
    "\n",
    "Подсказка: сервис работает при помощи \"скрытого\" API. Внимательно изучите post-запросы."
   ]
  },
  {
   "cell_type": "code",
   "execution_count": null,
   "metadata": {},
   "outputs": [],
   "source": [
    "import json\n",
    "EMAILS = ['xxx@x.ru', 'yyy@y.com']\n",
    "\n",
    "#Задаем пустой датафрейм\n",
    "df = pd.DataFrame()\n",
    "\n",
    "#Перебираем адреса \n",
    "for email in EMAILS:\n",
    "    url = 'https://identityprotection.avast.com/v1/web/query/site-breaches/unauthorized-data'\n",
    "    data = {\"emailAddresses\": EMAILS}\n",
    "    headers = headers = {\n",
    "    'Connection': 'keep-alive',\n",
    "    'Content-Length': '44',\n",
    "    'Accept': 'application/json, text/plain, */*',\n",
    "    'vaar-version': '0',\n",
    "    'User-Agent': 'Mozilla/5.0 (Windows NT 10.0; Win64; x64) AppleWebKit/537.36 (KHTML, like Gecko) Chrome/86.0.4240.198 Safari/537.36',\n",
    "    'Vaar-Header-App-Product': 'hackcheck-web-avast',\n",
    "    'Content-Type': 'application/json;charset=UTF-8',\n",
    "    'Origin': 'https://www.avast.com',\n",
    "    'Sec-Fetch-Site': 'same-site',\n",
    "    'Sec-Fetch-Mode': 'cors',\n",
    "    'Sec-Fetch-Dest': 'empty',\n",
    "    'Referer': 'https://www.avast.com/',\n",
    "    'Accept-Encoding': 'gzip, deflate, br',\n",
    "    'Accept-Language': 'ru-RU,ru;q=0.9,en-US;q=0.8,en;q=0.7'   \n",
    "}\n",
    "    #Создаем post запрос\n",
    "    req = requests.post(url, data=json.dumps(data), headers = headers)\n",
    "    time.sleep(0.3)\n",
    "    for details in req.json()['breaches'].values():\n",
    "        row = {'почта':email, 'дата утечки': details['publishDate'], 'источник утечки': details['site'], 'описание утечки': details['description']}\n",
    "        df = pd.concat([df, pd.DataFrame([row])], ignore_index=True)\n",
    "#Форматируем дату\n",
    "df['дата утечки'] = pd.to_datetime(df['дата утечки'], format='%Y-%m-%dT%H:%M:%SZ')\n",
    "df"
   ]
  }
 ],
 "metadata": {
  "kernelspec": {
   "display_name": "Python 3",
   "language": "python",
   "name": "python3"
  },
  "language_info": {
   "codemirror_mode": {
    "name": "ipython",
    "version": 3
   },
   "file_extension": ".py",
   "mimetype": "text/x-python",
   "name": "python",
   "nbconvert_exporter": "python",
   "pygments_lexer": "ipython3",
   "version": "3.8.3"
  }
 },
 "nbformat": 4,
 "nbformat_minor": 4
}
