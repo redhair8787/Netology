{
 "cells": [
  {
   "cell_type": "markdown",
   "metadata": {},
   "source": [
    "Обязательная часть\n",
    "Вам необходимо провести базовый EDA выбранного набора данных.\n",
    "\n",
    "Требования к анализу:\n",
    "\n",
    "построить не менее 4 визуализаций различных видов;\n",
    "каждая визуализация должным образом оформлена и читается даже в отрыве от контекста;\n",
    "по каждой визуализации необходимо написать вывод (какую гипотезу на ее основе можно выдвинуть?).\n",
    "Откуда брать данные?\n",
    "\n",
    "Можете взять свои рабочие данные, либо найти открытые данные (например, на kaggle.com) по интересующей вас предметной области (тогда не забудьте их выложить на github вместе с ноутбуком). Если идей нет, можете взять один из перечисленных ниже:\n",
    "\n",
    "данные приложений из Google Play;\n",
    "\n",
    "данные о видео из трендов YouTube;\n",
    "\n",
    "данные об уровне счастья в разных странах;\n",
    "\n",
    "данные по фильмам и сериалам Netflix."
   ]
  },
  {
   "cell_type": "code",
   "execution_count": 114,
   "metadata": {},
   "outputs": [],
   "source": [
    "#увеличим дефолтный размер графиков\n",
    "from pylab import rcParams\n",
    "rcParams['figure.figsize'] = 10,7\n",
    "\n",
    "# импортируем нужные библиотеки\n",
    "import pandas as pd\n",
    "import matplotlib.pyplot as plt\n",
    "\n",
    "import numpy as np\n",
    "import seaborn as sns"
   ]
  },
  {
   "cell_type": "code",
   "execution_count": 11,
   "metadata": {},
   "outputs": [
    {
     "name": "stdout",
     "output_type": "stream",
     "text": [
      "<class 'pandas.core.frame.DataFrame'>\n",
      "RangeIndex: 156 entries, 0 to 155\n",
      "Data columns (total 9 columns):\n",
      " #   Column                        Non-Null Count  Dtype  \n",
      "---  ------                        --------------  -----  \n",
      " 0   Overall rank                  156 non-null    int64  \n",
      " 1   Country or region             156 non-null    object \n",
      " 2   Score                         156 non-null    float64\n",
      " 3   GDP per capita                156 non-null    float64\n",
      " 4   Social support                156 non-null    float64\n",
      " 5   Healthy life expectancy       156 non-null    float64\n",
      " 6   Freedom to make life choices  156 non-null    float64\n",
      " 7   Generosity                    156 non-null    float64\n",
      " 8   Perceptions of corruption     156 non-null    float64\n",
      "dtypes: float64(7), int64(1), object(1)\n",
      "memory usage: 11.1+ KB\n"
     ]
    }
   ],
   "source": [
    "#Прочтем файл - уровень счастья по странам за 2019 год\n",
    "happiness_level = pd.read_csv('2019.csv')\n",
    "happiness_level.head()\n",
    "happiness_level.info()"
   ]
  },
  {
   "cell_type": "code",
   "execution_count": 29,
   "metadata": {},
   "outputs": [
    {
     "data": {
      "text/html": [
       "<div>\n",
       "<style scoped>\n",
       "    .dataframe tbody tr th:only-of-type {\n",
       "        vertical-align: middle;\n",
       "    }\n",
       "\n",
       "    .dataframe tbody tr th {\n",
       "        vertical-align: top;\n",
       "    }\n",
       "\n",
       "    .dataframe thead th {\n",
       "        text-align: right;\n",
       "    }\n",
       "</style>\n",
       "<table border=\"1\" class=\"dataframe\">\n",
       "  <thead>\n",
       "    <tr style=\"text-align: right;\">\n",
       "      <th></th>\n",
       "      <th>Страна</th>\n",
       "      <th>Уровень счастья</th>\n",
       "      <th>ВВП на душу населения</th>\n",
       "      <th>Соц поддержка</th>\n",
       "      <th>ЗОЖ</th>\n",
       "      <th>Свобода выбора</th>\n",
       "      <th>Благотворительность</th>\n",
       "      <th>Коррупция</th>\n",
       "    </tr>\n",
       "  </thead>\n",
       "  <tbody>\n",
       "    <tr>\n",
       "      <th>0</th>\n",
       "      <td>Finland</td>\n",
       "      <td>7.769</td>\n",
       "      <td>1.340</td>\n",
       "      <td>1.587</td>\n",
       "      <td>0.986</td>\n",
       "      <td>0.596</td>\n",
       "      <td>0.153</td>\n",
       "      <td>0.393</td>\n",
       "    </tr>\n",
       "    <tr>\n",
       "      <th>1</th>\n",
       "      <td>Denmark</td>\n",
       "      <td>7.600</td>\n",
       "      <td>1.383</td>\n",
       "      <td>1.573</td>\n",
       "      <td>0.996</td>\n",
       "      <td>0.592</td>\n",
       "      <td>0.252</td>\n",
       "      <td>0.410</td>\n",
       "    </tr>\n",
       "    <tr>\n",
       "      <th>2</th>\n",
       "      <td>Norway</td>\n",
       "      <td>7.554</td>\n",
       "      <td>1.488</td>\n",
       "      <td>1.582</td>\n",
       "      <td>1.028</td>\n",
       "      <td>0.603</td>\n",
       "      <td>0.271</td>\n",
       "      <td>0.341</td>\n",
       "    </tr>\n",
       "    <tr>\n",
       "      <th>3</th>\n",
       "      <td>Iceland</td>\n",
       "      <td>7.494</td>\n",
       "      <td>1.380</td>\n",
       "      <td>1.624</td>\n",
       "      <td>1.026</td>\n",
       "      <td>0.591</td>\n",
       "      <td>0.354</td>\n",
       "      <td>0.118</td>\n",
       "    </tr>\n",
       "    <tr>\n",
       "      <th>4</th>\n",
       "      <td>Netherlands</td>\n",
       "      <td>7.488</td>\n",
       "      <td>1.396</td>\n",
       "      <td>1.522</td>\n",
       "      <td>0.999</td>\n",
       "      <td>0.557</td>\n",
       "      <td>0.322</td>\n",
       "      <td>0.298</td>\n",
       "    </tr>\n",
       "  </tbody>\n",
       "</table>\n",
       "</div>"
      ],
      "text/plain": [
       "        Страна  Уровень счастья  ВВП на душу населения  Соц поддержка    ЗОЖ  \\\n",
       "0      Finland            7.769                  1.340          1.587  0.986   \n",
       "1      Denmark            7.600                  1.383          1.573  0.996   \n",
       "2       Norway            7.554                  1.488          1.582  1.028   \n",
       "3      Iceland            7.494                  1.380          1.624  1.026   \n",
       "4  Netherlands            7.488                  1.396          1.522  0.999   \n",
       "\n",
       "   Свобода выбора  Благотворительность  Коррупция  \n",
       "0           0.596                0.153      0.393  \n",
       "1           0.592                0.252      0.410  \n",
       "2           0.603                0.271      0.341  \n",
       "3           0.591                0.354      0.118  \n",
       "4           0.557                0.322      0.298  "
      ]
     },
     "execution_count": 29,
     "metadata": {},
     "output_type": "execute_result"
    }
   ],
   "source": [
    "#Отфильтруем датафрейм\n",
    "happiness_level_2 = happiness_level.filter(items = ['Country or region', 'Score', 'GDP per capita',  'Social support',\n",
    "                                                    'Healthy life expectancy', 'Freedom to make life choices', 'Generosity',\n",
    "                                                    'Perceptions of corruption'])\n",
    "\n",
    "\n",
    "happiness_level_2.columns = ['Страна', 'Уровень счастья', 'ВВП на душу населения',  'Соц поддержка', 'ЗОЖ',\n",
    "                             'Свобода выбора', 'Благотворительность', 'Коррупция']\n",
    "happiness_level_2. head()\n"
   ]
  },
  {
   "cell_type": "code",
   "execution_count": 30,
   "metadata": {},
   "outputs": [
    {
     "data": {
      "text/html": [
       "<div>\n",
       "<style scoped>\n",
       "    .dataframe tbody tr th:only-of-type {\n",
       "        vertical-align: middle;\n",
       "    }\n",
       "\n",
       "    .dataframe tbody tr th {\n",
       "        vertical-align: top;\n",
       "    }\n",
       "\n",
       "    .dataframe thead th {\n",
       "        text-align: right;\n",
       "    }\n",
       "</style>\n",
       "<table border=\"1\" class=\"dataframe\">\n",
       "  <thead>\n",
       "    <tr style=\"text-align: right;\">\n",
       "      <th></th>\n",
       "      <th>Уровень счастья</th>\n",
       "      <th>ВВП на душу населения</th>\n",
       "      <th>Соц поддержка</th>\n",
       "      <th>ЗОЖ</th>\n",
       "      <th>Свобода выбора</th>\n",
       "      <th>Благотворительность</th>\n",
       "      <th>Коррупция</th>\n",
       "    </tr>\n",
       "  </thead>\n",
       "  <tbody>\n",
       "    <tr>\n",
       "      <th>count</th>\n",
       "      <td>156.000000</td>\n",
       "      <td>156.000000</td>\n",
       "      <td>156.000000</td>\n",
       "      <td>156.000000</td>\n",
       "      <td>156.000000</td>\n",
       "      <td>156.000000</td>\n",
       "      <td>156.000000</td>\n",
       "    </tr>\n",
       "    <tr>\n",
       "      <th>mean</th>\n",
       "      <td>5.407096</td>\n",
       "      <td>0.905147</td>\n",
       "      <td>1.208814</td>\n",
       "      <td>0.725244</td>\n",
       "      <td>0.392571</td>\n",
       "      <td>0.184846</td>\n",
       "      <td>0.110603</td>\n",
       "    </tr>\n",
       "    <tr>\n",
       "      <th>std</th>\n",
       "      <td>1.113120</td>\n",
       "      <td>0.398389</td>\n",
       "      <td>0.299191</td>\n",
       "      <td>0.242124</td>\n",
       "      <td>0.143289</td>\n",
       "      <td>0.095254</td>\n",
       "      <td>0.094538</td>\n",
       "    </tr>\n",
       "    <tr>\n",
       "      <th>min</th>\n",
       "      <td>2.853000</td>\n",
       "      <td>0.000000</td>\n",
       "      <td>0.000000</td>\n",
       "      <td>0.000000</td>\n",
       "      <td>0.000000</td>\n",
       "      <td>0.000000</td>\n",
       "      <td>0.000000</td>\n",
       "    </tr>\n",
       "    <tr>\n",
       "      <th>25%</th>\n",
       "      <td>4.544500</td>\n",
       "      <td>0.602750</td>\n",
       "      <td>1.055750</td>\n",
       "      <td>0.547750</td>\n",
       "      <td>0.308000</td>\n",
       "      <td>0.108750</td>\n",
       "      <td>0.047000</td>\n",
       "    </tr>\n",
       "    <tr>\n",
       "      <th>50%</th>\n",
       "      <td>5.379500</td>\n",
       "      <td>0.960000</td>\n",
       "      <td>1.271500</td>\n",
       "      <td>0.789000</td>\n",
       "      <td>0.417000</td>\n",
       "      <td>0.177500</td>\n",
       "      <td>0.085500</td>\n",
       "    </tr>\n",
       "    <tr>\n",
       "      <th>75%</th>\n",
       "      <td>6.184500</td>\n",
       "      <td>1.232500</td>\n",
       "      <td>1.452500</td>\n",
       "      <td>0.881750</td>\n",
       "      <td>0.507250</td>\n",
       "      <td>0.248250</td>\n",
       "      <td>0.141250</td>\n",
       "    </tr>\n",
       "    <tr>\n",
       "      <th>max</th>\n",
       "      <td>7.769000</td>\n",
       "      <td>1.684000</td>\n",
       "      <td>1.624000</td>\n",
       "      <td>1.141000</td>\n",
       "      <td>0.631000</td>\n",
       "      <td>0.566000</td>\n",
       "      <td>0.453000</td>\n",
       "    </tr>\n",
       "  </tbody>\n",
       "</table>\n",
       "</div>"
      ],
      "text/plain": [
       "       Уровень счастья  ВВП на душу населения  Соц поддержка         ЗОЖ  \\\n",
       "count       156.000000             156.000000     156.000000  156.000000   \n",
       "mean          5.407096               0.905147       1.208814    0.725244   \n",
       "std           1.113120               0.398389       0.299191    0.242124   \n",
       "min           2.853000               0.000000       0.000000    0.000000   \n",
       "25%           4.544500               0.602750       1.055750    0.547750   \n",
       "50%           5.379500               0.960000       1.271500    0.789000   \n",
       "75%           6.184500               1.232500       1.452500    0.881750   \n",
       "max           7.769000               1.684000       1.624000    1.141000   \n",
       "\n",
       "       Свобода выбора  Благотворительность   Коррупция  \n",
       "count      156.000000           156.000000  156.000000  \n",
       "mean         0.392571             0.184846    0.110603  \n",
       "std          0.143289             0.095254    0.094538  \n",
       "min          0.000000             0.000000    0.000000  \n",
       "25%          0.308000             0.108750    0.047000  \n",
       "50%          0.417000             0.177500    0.085500  \n",
       "75%          0.507250             0.248250    0.141250  \n",
       "max          0.631000             0.566000    0.453000  "
      ]
     },
     "execution_count": 30,
     "metadata": {},
     "output_type": "execute_result"
    }
   ],
   "source": [
    "happiness_level_2.describe()"
   ]
  },
  {
   "cell_type": "markdown",
   "metadata": {},
   "source": [
    "ГРАФИК 1. Зависимость уровня благотворительности от уровня счастья\n"
   ]
  },
  {
   "cell_type": "code",
   "execution_count": 31,
   "metadata": {},
   "outputs": [
    {
     "data": {
      "image/png": "[encoded data removed]",
      "text/plain": [
       "<Figure size 720x504 with 1 Axes>"
      ]
     },
     "metadata": {
      "needs_background": "light"
     },
     "output_type": "display_data"
    }
   ],
   "source": [
    "happiness_level_2.plot(kind='scatter', y='Благотворительность', x='Уровень счастья', \n",
    "        title='График зависимости благотворительности от уровня счастья в стране')\n",
    "plt.show()"
   ]
  },
  {
   "cell_type": "code",
   "execution_count": 32,
   "metadata": {},
   "outputs": [],
   "source": [
    "# На графике видно, что в основном благотворительностью занимаются те страны, где уровень счастья находиться\n",
    "#на среднем уровне, страны с вясоким уровнем счасть склонны делать более высокие пожертвования"
   ]
  },
  {
   "cell_type": "markdown",
   "metadata": {},
   "source": [
    "ГРАФИК 2. График уровня ввп на душу населения для стран Большой семерки и России"
   ]
  },
  {
   "cell_type": "code",
   "execution_count": 92,
   "metadata": {},
   "outputs": [
    {
     "data": {
      "text/html": [
       "<div>\n",
       "<style scoped>\n",
       "    .dataframe tbody tr th:only-of-type {\n",
       "        vertical-align: middle;\n",
       "    }\n",
       "\n",
       "    .dataframe tbody tr th {\n",
       "        vertical-align: top;\n",
       "    }\n",
       "\n",
       "    .dataframe thead th {\n",
       "        text-align: right;\n",
       "    }\n",
       "</style>\n",
       "<table border=\"1\" class=\"dataframe\">\n",
       "  <thead>\n",
       "    <tr style=\"text-align: right;\">\n",
       "      <th></th>\n",
       "      <th>Страна</th>\n",
       "      <th>Уровень счастья</th>\n",
       "      <th>ВВП на душу населения</th>\n",
       "      <th>Соц поддержка</th>\n",
       "      <th>ЗОЖ</th>\n",
       "      <th>Свобода выбора</th>\n",
       "      <th>Благотворительность</th>\n",
       "      <th>Коррупция</th>\n",
       "    </tr>\n",
       "  </thead>\n",
       "  <tbody>\n",
       "    <tr>\n",
       "      <th>67</th>\n",
       "      <td>Russia</td>\n",
       "      <td>5.648</td>\n",
       "      <td>1.183</td>\n",
       "      <td>1.452</td>\n",
       "      <td>0.726</td>\n",
       "      <td>0.334</td>\n",
       "      <td>0.082</td>\n",
       "      <td>0.031</td>\n",
       "    </tr>\n",
       "  </tbody>\n",
       "</table>\n",
       "</div>"
      ],
      "text/plain": [
       "    Страна  Уровень счастья  ВВП на душу населения  Соц поддержка    ЗОЖ  \\\n",
       "67  Russia            5.648                  1.183          1.452  0.726   \n",
       "\n",
       "    Свобода выбора  Благотворительность  Коррупция  \n",
       "67           0.334                0.082      0.031  "
      ]
     },
     "execution_count": 92,
     "metadata": {},
     "output_type": "execute_result"
    }
   ],
   "source": [
    "russia = happiness_level_2[ (happiness_level_2['Страна']=='Russia')]\n",
    "russia"
   ]
  },
  {
   "cell_type": "code",
   "execution_count": 91,
   "metadata": {},
   "outputs": [
    {
     "data": {
      "text/html": [
       "<div>\n",
       "<style scoped>\n",
       "    .dataframe tbody tr th:only-of-type {\n",
       "        vertical-align: middle;\n",
       "    }\n",
       "\n",
       "    .dataframe tbody tr th {\n",
       "        vertical-align: top;\n",
       "    }\n",
       "\n",
       "    .dataframe thead th {\n",
       "        text-align: right;\n",
       "    }\n",
       "</style>\n",
       "<table border=\"1\" class=\"dataframe\">\n",
       "  <thead>\n",
       "    <tr style=\"text-align: right;\">\n",
       "      <th></th>\n",
       "      <th>Страна</th>\n",
       "      <th>Уровень счастья</th>\n",
       "      <th>ВВП на душу населения</th>\n",
       "      <th>Соц поддержка</th>\n",
       "      <th>ЗОЖ</th>\n",
       "      <th>Свобода выбора</th>\n",
       "      <th>Благотворительность</th>\n",
       "      <th>Коррупция</th>\n",
       "    </tr>\n",
       "  </thead>\n",
       "  <tbody>\n",
       "    <tr>\n",
       "      <th>8</th>\n",
       "      <td>Canada</td>\n",
       "      <td>7.278</td>\n",
       "      <td>1.365</td>\n",
       "      <td>1.505</td>\n",
       "      <td>1.039</td>\n",
       "      <td>0.584</td>\n",
       "      <td>0.285</td>\n",
       "      <td>0.308</td>\n",
       "    </tr>\n",
       "    <tr>\n",
       "      <th>14</th>\n",
       "      <td>United Kingdom</td>\n",
       "      <td>7.054</td>\n",
       "      <td>1.333</td>\n",
       "      <td>1.538</td>\n",
       "      <td>0.996</td>\n",
       "      <td>0.450</td>\n",
       "      <td>0.348</td>\n",
       "      <td>0.278</td>\n",
       "    </tr>\n",
       "    <tr>\n",
       "      <th>16</th>\n",
       "      <td>Germany</td>\n",
       "      <td>6.985</td>\n",
       "      <td>1.373</td>\n",
       "      <td>1.454</td>\n",
       "      <td>0.987</td>\n",
       "      <td>0.495</td>\n",
       "      <td>0.261</td>\n",
       "      <td>0.265</td>\n",
       "    </tr>\n",
       "    <tr>\n",
       "      <th>18</th>\n",
       "      <td>United States</td>\n",
       "      <td>6.892</td>\n",
       "      <td>1.433</td>\n",
       "      <td>1.457</td>\n",
       "      <td>0.874</td>\n",
       "      <td>0.454</td>\n",
       "      <td>0.280</td>\n",
       "      <td>0.128</td>\n",
       "    </tr>\n",
       "    <tr>\n",
       "      <th>23</th>\n",
       "      <td>France</td>\n",
       "      <td>6.592</td>\n",
       "      <td>1.324</td>\n",
       "      <td>1.472</td>\n",
       "      <td>1.045</td>\n",
       "      <td>0.436</td>\n",
       "      <td>0.111</td>\n",
       "      <td>0.183</td>\n",
       "    </tr>\n",
       "    <tr>\n",
       "      <th>35</th>\n",
       "      <td>Italy</td>\n",
       "      <td>6.223</td>\n",
       "      <td>1.294</td>\n",
       "      <td>1.488</td>\n",
       "      <td>1.039</td>\n",
       "      <td>0.231</td>\n",
       "      <td>0.158</td>\n",
       "      <td>0.030</td>\n",
       "    </tr>\n",
       "    <tr>\n",
       "      <th>57</th>\n",
       "      <td>Japan</td>\n",
       "      <td>5.886</td>\n",
       "      <td>1.327</td>\n",
       "      <td>1.419</td>\n",
       "      <td>1.088</td>\n",
       "      <td>0.445</td>\n",
       "      <td>0.069</td>\n",
       "      <td>0.140</td>\n",
       "    </tr>\n",
       "  </tbody>\n",
       "</table>\n",
       "</div>"
      ],
      "text/plain": [
       "            Страна  Уровень счастья  ВВП на душу населения  Соц поддержка  \\\n",
       "8           Canada            7.278                  1.365          1.505   \n",
       "14  United Kingdom            7.054                  1.333          1.538   \n",
       "16         Germany            6.985                  1.373          1.454   \n",
       "18   United States            6.892                  1.433          1.457   \n",
       "23          France            6.592                  1.324          1.472   \n",
       "35           Italy            6.223                  1.294          1.488   \n",
       "57           Japan            5.886                  1.327          1.419   \n",
       "\n",
       "      ЗОЖ  Свобода выбора  Благотворительность  Коррупция  \n",
       "8   1.039           0.584                0.285      0.308  \n",
       "14  0.996           0.450                0.348      0.278  \n",
       "16  0.987           0.495                0.261      0.265  \n",
       "18  0.874           0.454                0.280      0.128  \n",
       "23  1.045           0.436                0.111      0.183  \n",
       "35  1.039           0.231                0.158      0.030  \n",
       "57  1.088           0.445                0.069      0.140  "
      ]
     },
     "execution_count": 91,
     "metadata": {},
     "output_type": "execute_result"
    }
   ],
   "source": [
    "#отсортируем датафрейм по странам Большой семерки\n",
    "big_seven = happiness_level_2[ (happiness_level_2['Страна']=='France') | (happiness_level_2['Страна']=='Germany')\n",
    "                       | (happiness_level_2['Страна']=='Italy') | (happiness_level_2['Страна']=='Japan')\n",
    "                       | (happiness_level_2['Страна']=='United Kingdom') | (happiness_level_2['Страна']=='United States')\n",
    "                       | (happiness_level_2['Страна']=='Canada')]\n",
    "big_seven\n",
    "\n"
   ]
  },
  {
   "cell_type": "code",
   "execution_count": 99,
   "metadata": {},
   "outputs": [
    {
     "data": {
      "image/png": "[encoded data removed]",
      "text/plain": [
       "<Figure size 720x504 with 1 Axes>"
      ]
     },
     "metadata": {
      "needs_background": "light"
     },
     "output_type": "display_data"
    }
   ],
   "source": [
    "\n",
    "\n",
    "data_b7_rus = [big_seven, russia]\n",
    "for country in data_b7_rus:\n",
    "    plt.bar(country['Страна'],country['ВВП на душу населения'])\n",
    "    plt.title('Уровень счастья стран Большой Семерки и России 2019')\n",
    "    plt.xlabel('Страна')\n",
    "    plt.ylabel('ВВП на душу населения')\n",
    "    plt.legend(['Большая Семерка', 'Россия'])"
   ]
  },
  {
   "cell_type": "code",
   "execution_count": null,
   "metadata": {},
   "outputs": [],
   "source": [
    "# На графике видно, что ВВП России ниже показателей Большой семерки, \n",
    "# определяющее влияние на индекс счастья в стране иммет ВВП "
   ]
  },
  {
   "cell_type": "markdown",
   "metadata": {},
   "source": [
    "ГРАФИК 3. Уровень коррупции в мире в 2019"
   ]
  },
  {
   "cell_type": "code",
   "execution_count": 107,
   "metadata": {},
   "outputs": [
    {
     "data": {
      "text/plain": [
       "<matplotlib.axes._subplots.AxesSubplot at 0x14ee1709d30>"
      ]
     },
     "execution_count": 107,
     "metadata": {},
     "output_type": "execute_result"
    },
    {
     "data": {
      "image/png": "[encoded data removed]",
      "text/plain": [
       "<Figure size 720x504 with 1 Axes>"
      ]
     },
     "metadata": {
      "needs_background": "light"
     },
     "output_type": "display_data"
    }
   ],
   "source": [
    "happiness_level_2['Коррупция'].plot(kind='box', title='Коррупция в мире 2019')                                  "
   ]
  },
  {
   "cell_type": "code",
   "execution_count": 108,
   "metadata": {},
   "outputs": [],
   "source": [
    "# Этот график показывает нам что коррупция в странах мира есть , \n",
    "# есть страны в которых данный показатель находится на высоком уровне, но таких стран не так ух и много,\n",
    "#в целом можно сказать что мир против коррупции, все показатели смещены в сторону низких показателей"
   ]
  },
  {
   "cell_type": "markdown",
   "metadata": {},
   "source": [
    "ГРАФИК 4. Тепловая карта взаимодействия показателей в странахмира"
   ]
  },
  {
   "cell_type": "code",
   "execution_count": 123,
   "metadata": {},
   "outputs": [
    {
     "data": {
      "text/plain": [
       "<matplotlib.axes._subplots.AxesSubplot at 0x14ee45fa730>"
      ]
     },
     "execution_count": 123,
     "metadata": {},
     "output_type": "execute_result"
    },
    {
     "data": {
      "image/png": "[encoded data removed]",
      "text/plain": [
       "<Figure size 720x504 with 2 Axes>"
      ]
     },
     "metadata": {
      "needs_background": "light"
     },
     "output_type": "display_data"
    }
   ],
   "source": [
    "\n",
    "sns.heatmap(happiness_level_2.corr(), cmap='coolwarm', annot=True)"
   ]
  },
  {
   "cell_type": "code",
   "execution_count": null,
   "metadata": {},
   "outputs": [],
   "source": [
    "#Из графика видно, что самую высокую кореляционную зависимость имеют ЗОЖ и ВВП\n",
    "# А так же, что Индекс счастья имеет высокую степень корреляции с ЗОЖ , ВВП и соц поддержкой\n",
    "#экономическое развитие, ожидаемая продолжительность жизни, и уровень социальной поддержки в странах  \n",
    "# имеют положительное влияние на оценку счастья населения"
   ]
  }
 ],
 "metadata": {
  "kernelspec": {
   "display_name": "Python 3",
   "language": "python",
   "name": "python3"
  },
  "language_info": {
   "codemirror_mode": {
    "name": "ipython",
    "version": 3
   },
   "file_extension": ".py",
   "mimetype": "text/x-python",
   "name": "python",
   "nbconvert_exporter": "python",
   "pygments_lexer": "ipython3",
   "version": "3.8.3"
  }
 },
 "nbformat": 4,
 "nbformat_minor": 4
}
