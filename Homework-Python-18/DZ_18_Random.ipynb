{
 "cells": [
  {
   "cell_type": "markdown",
   "metadata": {},
   "source": [
    "Смоделировать игру против лотерейного автомата типа “777”. Игрок платит 1 руб., после чего выпадает случайное целое число, равномерно распределенное от 0 до 999. При некоторых значениях числа игрок получает выигрыш (см. справа)\n",
    "\n",
    "Выгодна ли игра игроку?\n",
    "\n",
    "Сколько в среднем приобретает\n",
    "или теряет игрок за одну игру?\n",
    "\n",
    "777: 200 руб.\n",
    "\n",
    "999: 100 руб.\n",
    "\n",
    "555: 50 руб.\n",
    "\n",
    "333: 15 руб.\n",
    "\n",
    "111: 10 руб.\n",
    "\n",
    "*77: 5 руб.\n",
    "\n",
    "**7: 3 руб.\n",
    "\n",
    "*00: 2 руб.\n",
    "\n",
    "**0: 1 руб.\n",
    "\n",
    "– любая цифра"
   ]
  },
  {
   "cell_type": "code",
   "execution_count": 1,
   "metadata": {},
   "outputs": [],
   "source": [
    "#Импортируем библиотеку\n",
    "import numpy as np"
   ]
  },
  {
   "cell_type": "code",
   "execution_count": 34,
   "metadata": {},
   "outputs": [
    {
     "name": "stdout",
     "output_type": "stream",
     "text": [
      "Потратили 10000\n",
      "Выиграли 7659\n",
      "Игра не выгодна игроку. Пройгрыш за 1 игру составил -0.2341 руб.\n"
     ]
    }
   ],
   "source": [
    "#Задаем количество попыток \n",
    "number_of_attempts = 10000\n",
    "# Задаем счетчики - количество потраченных и выигранных денег\n",
    "pay_money = 0\n",
    "win_money = 0\n",
    "\n",
    "#Проходимся циклом по количеству попыток, где генерится случайное целое число от 0 до 999\n",
    "for i in range(number_of_attempts):\n",
    "    lotery_number = np.random.randint(0,1000)\n",
    "    #За каждую попытку платим 1 руб.\n",
    "    pay_money += 1\n",
    "    #При выпадении определенных чисел, записываем сумму в выигрыш\n",
    "    if lotery_number == 777:\n",
    "        win_money += 200\n",
    "    elif lotery_number == 999:\n",
    "        win_money += 100\n",
    "    elif lotery_number == 555:\n",
    "        win_money += 50\n",
    "    elif lotery_number == 333:\n",
    "        win_money += 15\n",
    "    elif lotery_number == 111:\n",
    "        win_money += 10\n",
    "    elif lotery_number%100 == 77 and lotery_number != 777:\n",
    "        win_money += 5\n",
    "    elif lotery_number%10 == 7 and lotery_number != 777 and lotery_number%100 != 77:\n",
    "        win_money += 3\n",
    "    elif lotery_number%100 == 0:\n",
    "        win_money += 2\n",
    "    elif lotery_number%10 == 0 and lotery_number%100 != 0:\n",
    "        win_money += 1\n",
    "print(f'Потратили', pay_money)\n",
    "print(f'Выиграли', win_money)\n",
    "\n",
    "\n",
    "if (win_money - pay_money) > 0:\n",
    "    print('Игра выгодна игроку. Выигрыш за 1 игру составил', (win_money - pay_money)/number_of_attempts)\n",
    "else:\n",
    "    print('Игра не выгодна игроку. Проигрыш за 1 игру составил', (win_money - pay_money)/number_of_attempts, 'руб.')"
   ]
  },
  {
   "cell_type": "code",
   "execution_count": null,
   "metadata": {},
   "outputs": [],
   "source": []
  },
  {
   "cell_type": "code",
   "execution_count": null,
   "metadata": {},
   "outputs": [],
   "source": []
  }
 ],
 "metadata": {
  "kernelspec": {
   "display_name": "Python 3",
   "language": "python",
   "name": "python3"
  },
  "language_info": {
   "codemirror_mode": {
    "name": "ipython",
    "version": 3
   },
   "file_extension": ".py",
   "mimetype": "text/x-python",
   "name": "python",
   "nbconvert_exporter": "python",
   "pygments_lexer": "ipython3",
   "version": "3.8.3"
  }
 },
 "nbformat": 4,
 "nbformat_minor": 4
}
