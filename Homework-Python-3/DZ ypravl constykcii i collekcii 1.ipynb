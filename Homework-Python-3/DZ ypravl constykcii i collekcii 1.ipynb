{
 "cells": [
  {
   "cell_type": "markdown",
   "metadata": {},
   "source": [
    "Задание 1"
   ]
  },
  {
   "cell_type": "code",
   "execution_count": 17,
   "metadata": {},
   "outputs": [],
   "source": [
    "word = 'testing'"
   ]
  },
  {
   "cell_type": "code",
   "execution_count": 18,
   "metadata": {},
   "outputs": [],
   "source": [
    "bukvi = len(word)"
   ]
  },
  {
   "cell_type": "code",
   "execution_count": 19,
   "metadata": {},
   "outputs": [
    {
     "name": "stdout",
     "output_type": "stream",
     "text": [
      "t\n"
     ]
    }
   ],
   "source": [
    "seredina=bukvi/2\n",
    "if bukvi % 2 == 0:\n",
    "    print (word [int(seredina)-1 : int(seredina)+1])\n",
    "elif bukvi %2 !=0:\n",
    "    print (word [int(seredina)])\n",
    "    "
   ]
  },
  {
   "cell_type": "markdown",
   "metadata": {},
   "source": [
    "Задание 2"
   ]
  },
  {
   "cell_type": "code",
   "execution_count": 3,
   "metadata": {},
   "outputs": [
    {
     "name": "stdout",
     "output_type": "stream",
     "text": [
      "Введите число 1\n",
      "Введите число 4\n",
      "Введите число 6\n",
      "Введите число 0\n",
      "11\n"
     ]
    }
   ],
   "source": [
    "number = int(input ('Введите число '))\n",
    "sum = 0\n",
    "while number != 0:\n",
    "    sum += number\n",
    "    number = int(input ('Введите число '))\n",
    "print (sum)"
   ]
  },
  {
   "cell_type": "markdown",
   "metadata": {},
   "source": [
    "Задание 3"
   ]
  },
  {
   "cell_type": "code",
   "execution_count": 2,
   "metadata": {
    "scrolled": true
   },
   "outputs": [
    {
     "name": "stdout",
     "output_type": "stream",
     "text": [
      "Alex и Emma\n",
      "Arthur и Kate\n",
      "John и Kira\n",
      "Peter и Liza\n",
      "Richard и Trisha\n"
     ]
    }
   ],
   "source": [
    "boys = ['Peter', 'Alex', 'John', 'Arthur', 'Richard']\n",
    "girls = ['Kate', 'Liza', 'Kira', 'Emma', 'Trisha']\n",
    "\n",
    "boys= sorted(boys)\n",
    "girls = sorted(girls)\n",
    "\n",
    "if len(boys) == len(girls):\n",
    "    i = 0\n",
    "    dlina = len (boys)\n",
    "    while i < dlina:\n",
    "        print(f'{boys[i]} и {girls[i]}')\n",
    "        i +=1\n",
    "else:\n",
    "    print ('Внимание, кто-то может остаться без пары!')\n",
    "  "
   ]
  },
  {
   "cell_type": "raw",
   "metadata": {},
   "source": [
    "Задание 4"
   ]
  },
  {
   "cell_type": "code",
   "execution_count": 28,
   "metadata": {},
   "outputs": [
    {
     "name": "stdout",
     "output_type": "stream",
     "text": [
      "Thailand - 23.9 C\n",
      "Germany - 13.8 C\n",
      "Russia - 3.7 C\n",
      "Poland - 12.0 C\n"
     ]
    }
   ],
   "source": [
    "countries_temperature = [\n",
    "['Thailand', [75.2, 77, 78.8, 73.4, 68, 75.2, 77]],\n",
    "['Germany', [57.2, 55.4, 59, 59, 53.6]],\n",
    "['Russia', [35.6, 37.4, 39.2, 41, 42.8, 39.2, 35.6]],\n",
    "['Poland', [50, 50, 53.6, 57.2, 55.4, 55.4]]\n",
    "]\n",
    "\n",
    "   \n",
    "for country_info in countries_temperature:\n",
    "    temp_sum = sum (country_info[1])\n",
    "    temp_sr = round (((temp_sum / len(country_info[1])-32) * 5 / 9),1)   \n",
    "    print(f\"{country_info[0]} - {temp_sr} C\") "
   ]
  },
  {
   "cell_type": "markdown",
   "metadata": {},
   "source": [
    "Задание 5"
   ]
  },
  {
   "cell_type": "code",
   "execution_count": 2,
   "metadata": {},
   "outputs": [
    {
     "name": "stdout",
     "output_type": "stream",
     "text": [
      "Количество уникальных пользователей: 4\n",
      "Просмотров всего: 93\n",
      "Среднее значение просмотров на пользователя: 23.25\n"
     ]
    }
   ],
   "source": [
    "stream = [\n",
    "'2018-01-01,user1,3',\n",
    "'2018-01-07,user1,4',\n",
    "'2018-03-29,user1,1',\n",
    "'2018-04-04,user1,13',\n",
    "'2018-01-05,user2,7',\n",
    "'2018-06-14,user3,4',\n",
    "'2018-07-02,user3,10',\n",
    "'2018-03-21,user4,19',\n",
    "'2018-03-22,user4,4',\n",
    "'2018-04-22,user4,8',\n",
    "'2018-05-03,user4,9',\n",
    "'2018-05-11,user4,11',\n",
    "]\n",
    "\n",
    "#Преобразованый stream в список списков\n",
    "stream_list = []\n",
    "\n",
    "#Пустое множество для определения кол-ва уникальных пользователей\n",
    "user_set = set()\n",
    "\n",
    "#каждый член списка '2018-01-01,user1,3' разбиваем на список\n",
    "# '2018-01-01,user1,3', '2018-01-07,user1,4'  = [[2018-01-01,user1,3],[2018-01-07,user1,4]]\n",
    "for i in stream:\n",
    "    stream_list.append(i.split(','))\n",
    "\n",
    "#Кол-во уникальных пользователей\n",
    "unique_user = 0\n",
    "\n",
    "#Кол-во просмотров\n",
    "users_view = 0\n",
    "\n",
    "for i in stream_list:\n",
    "    #Если пользователя нет в множестве то добавляем, и прибавляем 1 к сумме уникальных пользователей\n",
    "    if (i[1]) not in user_set:\n",
    "        user_set.add(i[1])\n",
    "        unique_user += 1\n",
    "    #В любом случае прибавляем количество просмотров\n",
    "    users_view += int(i[2])\n",
    "\n",
    "\n",
    "\n",
    "print(f'Количество уникальных пользователей: {unique_user}')\n",
    "print(f'Просмотров всего: {users_view}')\n",
    "print(f'Среднее значение просмотров на пользователя: {users_view/unique_user}')"
   ]
  },
  {
   "cell_type": "markdown",
   "metadata": {},
   "source": [
    "Задание 6"
   ]
  },
  {
   "cell_type": "code",
   "execution_count": 14,
   "metadata": {
    "scrolled": true
   },
   "outputs": [
    {
     "name": "stdout",
     "output_type": "stream",
     "text": [
      "Введите числа разделенные пробелом\n",
      "1 1 2 2 3 3\n",
      "1 2 3\n"
     ]
    }
   ],
   "source": [
    "print(\"Введите числа разделенные пробелом\")\n",
    "\n",
    "#Создаем множество\n",
    "user_set = set()\n",
    "user_set2 = set()\n",
    "\n",
    "#Создаем список из вводимых чисел\n",
    "s = [ int(i) for i in input().split() ]\n",
    "\n",
    "#Проходим по списку.\n",
    "for i in s:\n",
    "    #Если число новое то добавляем в множество\n",
    "    if i not in user_set:\n",
    "        user_set.add(i)\n",
    "    # Если число повторяется то добавляем во второе множество\n",
    "    else:\n",
    "        user_set2.add(i)\n",
    "\n",
    "#разбиваем элементы множества, переводя в str и выводим их через пробел\n",
    "print(\" \".join(map(str, user_set2)))\n"
   ]
  },
  {
   "cell_type": "code",
   "execution_count": null,
   "metadata": {},
   "outputs": [],
   "source": []
  }
 ],
 "metadata": {
  "kernelspec": {
   "display_name": "Python 3",
   "language": "python",
   "name": "python3"
  },
  "language_info": {
   "codemirror_mode": {
    "name": "ipython",
    "version": 3
   },
   "file_extension": ".py",
   "mimetype": "text/x-python",
   "name": "python",
   "nbconvert_exporter": "python",
   "pygments_lexer": "ipython3",
   "version": "3.8.3"
  }
 },
 "nbformat": 4,
 "nbformat_minor": 4
}
