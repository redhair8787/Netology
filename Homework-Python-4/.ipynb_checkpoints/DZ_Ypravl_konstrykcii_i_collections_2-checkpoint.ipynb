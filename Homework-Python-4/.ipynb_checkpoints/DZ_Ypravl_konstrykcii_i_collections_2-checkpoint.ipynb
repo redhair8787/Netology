{
 "cells": [
  {
   "cell_type": "markdown",
   "metadata": {},
   "source": [
    "Задание 1"
   ]
  },
  {
   "cell_type": "code",
   "execution_count": 24,
   "metadata": {},
   "outputs": [
    {
     "name": "stdout",
     "output_type": "stream",
     "text": [
      "{98, 35, 15, 213, 54, 119}\n"
     ]
    }
   ],
   "source": [
    "ids = {'user1': [213, 213, 213, 15, 213],\n",
    "'user2': [54, 54, 119, 119, 119],\n",
    "'user3': [213, 98, 98, 35]}\n",
    "\n",
    "#Задаем пустое множество\n",
    "ids_set = set()\n",
    "# получаем только значения гео-меток из словаря\n",
    "\n",
    "ids_list = list(ids.values())\n",
    "\n",
    "#Переводим список списков в список\n",
    "ids_list_1 = sum(ids_list, [])\n",
    "\n",
    "#Проходимся по списку\n",
    "\n",
    "for i in ids_list_1:\n",
    "    #Если гео-метки нет в множестве то добавляем\n",
    "    if i not in ids_set:\n",
    "        ids_set.add(i)\n",
    "\n",
    "print (ids_set)\n",
    "\n",
    "\n"
   ]
  },
  {
   "cell_type": "markdown",
   "metadata": {},
   "source": [
    "Задание 2"
   ]
  },
  {
   "cell_type": "code",
   "execution_count": 168,
   "metadata": {},
   "outputs": [
    {
     "name": "stdout",
     "output_type": "stream",
     "text": [
      "Поисковых запросов, содержащих 2 слов(а): 42.86% \n",
      "Поисковых запросов, содержащих 3 слов(а): 57.14% \n"
     ]
    }
   ],
   "source": [
    "queries = [\n",
    "'смотреть сериалы онлайн',\n",
    "'новости спорта',\n",
    "'афиша кино',\n",
    "'курс доллара',\n",
    "'сериалы этим летом',\n",
    "'курс по питону',\n",
    "'сериалы про спорт',\n",
    "]\n",
    "\n",
    "count_words= []\n",
    "max_dlina=0\n",
    "\n",
    "#Длина списка\n",
    "len_queries=len(queries)\n",
    "\n",
    "for i in queries:\n",
    "    #Для каждого элемента списка считаем длину и добавляем её в список count_words\n",
    "    count_words.append(len(i.split(' ')))\n",
    "    #Ищем максимальную длину\n",
    "    #Если новый элемент больше max_dlina, то увеличиваем max_dlina\n",
    "    if len(i.split(' ')) > max_dlina:\n",
    "        max_dlina = len(i.split(' '))\n",
    "\n",
    "\n",
    "#Переменная для перебора\n",
    "dlina = 1\n",
    "\n",
    "#Считаем  в count_words количество фраз с 1 словом, с двумя и т.д.\n",
    "# до фразы с мах. длиной\n",
    "while dlina <= max_dlina:\n",
    "    #Считаем сколько фраз в списке из dlina слов\n",
    "    count_fraz=count_words.count(dlina)\n",
    "    #Если фраз с этим количеством слов больше нуля то выводим\n",
    "    if count_fraz > 0:\n",
    "        prosent = round(count_fraz/len_queries*100, 2)\n",
    "        print(f'Поисковых запросов, содержащих {dlina} слов(а): {prosent}% ')\n",
    "    dlina += 1\n"
   ]
  },
  {
   "cell_type": "markdown",
   "metadata": {},
   "source": [
    "Задание 3"
   ]
  },
  {
   "cell_type": "code",
   "execution_count": 157,
   "metadata": {},
   "outputs": [
    {
     "name": "stdout",
     "output_type": "stream",
     "text": [
      "{'vk': {'revenue': 103, 'cost': 98, 'ROI': 5.1}, 'yandex': {'revenue': 179, 'cost': 153, 'ROI': 16.99}, 'facebook': {'revenue': 103, 'cost': 110, 'ROI': -6.36}, 'adwords': {'revenue': 35, 'cost': 34, 'ROI': 2.94}, 'twitter': {'revenue': 11, 'cost': 24, 'ROI': -54.17}}\n"
     ]
    }
   ],
   "source": [
    "results = {\n",
    "'vk': {'revenue': 103, 'cost': 98},\n",
    "'yandex': {'revenue': 179, 'cost': 153},\n",
    "'facebook': {'revenue': 103, 'cost': 110},\n",
    "'adwords': {'revenue': 35, 'cost': 34},\n",
    "'twitter': {'revenue': 11, 'cost': 24},\n",
    "}\n",
    "\n",
    "\n",
    "\n",
    "for values in results.values():\n",
    "    roi = round((values['revenue']/values['cost']-1)*100, 2)\n",
    "    values.setdefault('ROI', roi)\n",
    "#      int(values['revenue']/values['cost']*100)\n",
    "#                       {salary*2 :.2%}\n",
    "    #results.append('ROI')\n",
    "    #channel.setdefault('ROI')\n",
    "#     print(person)\n",
    "   # if info['ROI'] :\n",
    "# print(value)\n",
    "print(results)"
   ]
  },
  {
   "cell_type": "markdown",
   "metadata": {},
   "source": [
    "Задание 4"
   ]
  },
  {
   "cell_type": "code",
   "execution_count": 95,
   "metadata": {},
   "outputs": [
    {
     "name": "stdout",
     "output_type": "stream",
     "text": [
      "Максимальный объем продаж на рекламном канале: vk \n"
     ]
    }
   ],
   "source": [
    "stats = {'facebook': 55, 'yandex': 115, 'vk': 120, 'google': 99, 'email': 42, 'ok': 98}\n",
    "\n",
    "max_key = max(stats, key=lambda k: stats[k])\n",
    "    \n",
    "print (f'Максимальный объем продаж на рекламном канале: {max_key} ')\n"
   ]
  },
  {
   "cell_type": "markdown",
   "metadata": {},
   "source": [
    "Задание 5"
   ]
  },
  {
   "cell_type": "code",
   "execution_count": 22,
   "metadata": {},
   "outputs": [
    {
     "name": "stdout",
     "output_type": "stream",
     "text": [
      "{'2018-01-01': {'yandex': {'cpc': 100}}}\n"
     ]
    }
   ],
   "source": [
    "my_list = ['2018-01-01', 'yandex', 'cpc', 100]\n",
    "\n",
    "#Пустой словарь\n",
    "mydict = {}\n",
    "\n",
    "#Длина списка\n",
    "length_list = len(my_list)\n",
    "\n",
    "#Cписок в обратном поряджке\n",
    "inv_mylist = my_list[::-1]\n",
    "\n",
    "\n",
    "#Наполняем первый словарь, ключ по имени первого элемента равен второму элементу\n",
    "#перевернутого списка mylist\n",
    "mydict[inv_mylist[1]] = inv_mylist[0]\n",
    "\n",
    "#Выводим что получилось\n",
    "# print(f'mydict = {mydict}')\n",
    "\n",
    "#начинаем с 1-го элемента, так как 0-й уже обработали выше\n",
    "i = 2\n",
    "while i < length_list:\n",
    "    #создаем новый словарь,\n",
    "    # c ключом = i-му элементу списка\n",
    "    # а в качестве значения, предыдущий словарь.\n",
    "    mydict = {inv_mylist[i]:mydict}\n",
    "    i += 1\n",
    "\n",
    "\n",
    "print(mydict)\n",
    "\n",
    "# my_list = [‘2018-01-01’, ‘yandex’, ‘cpc’, 100]\n",
    "# Результат: {‘2018-01-01’: {‘yandex’: {‘cpc’: 100}}}\n",
    "\n",
    "# my_list = [‘a’, ‘b’, ‘c’, ‘d’, ‘e’, ‘f’]\n",
    "# Результат: {‘a’: {‘b’: {‘c’: {‘d’: {‘e’: ‘f’}}}}}\n"
   ]
  },
  {
   "cell_type": "markdown",
   "metadata": {},
   "source": [
    "Задание 6"
   ]
  },
  {
   "cell_type": "code",
   "execution_count": 94,
   "metadata": {},
   "outputs": [
    {
     "name": "stdout",
     "output_type": "stream",
     "text": [
      "Введите количество порций 3\n",
      "сыр: 210 гр\n",
      "томаты: 120 гр\n",
      "огурцы: 60 гр\n",
      "маслины: 30 гр\n",
      "оливковое масло: 60 мл\n",
      "салат: 30 гр\n",
      "перец: 60 гр\n",
      "колбаса: 90 гр\n",
      "бекон: 90 гр\n",
      "оливки: 30 гр\n",
      "тесто: 300 гр\n",
      "лимон: 3 шт\n",
      "вода: 600 мл\n",
      "сахар: 30 гр\n",
      "лайм: 60 гр\n"
     ]
    }
   ],
   "source": [
    "cook_book = {\n",
    "'салат': [\n",
    "{'ingridient_name': 'сыр', 'quantity': 50, 'measure': 'гр'},\n",
    "{'ingridient_name': 'томаты', 'quantity': 20, 'measure': 'гр'},\n",
    "{'ingridient_name': 'огурцы', 'quantity': 20, 'measure': 'гр'},\n",
    "{'ingridient_name': 'маслины', 'quantity': 10, 'measure': 'гр'},\n",
    "{'ingridient_name': 'оливковое масло', 'quantity': 20, 'measure': 'мл'},\n",
    "{'ingridient_name': 'салат', 'quantity': 10, 'measure': 'гр'},\n",
    "{'ingridient_name': 'перец', 'quantity': 20, 'measure': 'гр'}\n",
    "],\n",
    "'пицца': [\n",
    "{'ingridient_name': 'сыр', 'quantity': 20, 'measure': 'гр'},\n",
    "{'ingridient_name': 'колбаса', 'quantity': 30, 'measure': 'гр'},\n",
    "{'ingridient_name': 'бекон', 'quantity': 30, 'measure': 'гр'},\n",
    "{'ingridient_name': 'оливки', 'quantity': 10, 'measure': 'гр'},\n",
    "{'ingridient_name': 'томаты', 'quantity': 20, 'measure': 'гр'},\n",
    "{'ingridient_name': 'тесто', 'quantity': 100, 'measure': 'гр'},\n",
    "],\n",
    "'лимонад': [\n",
    "{'ingridient_name': 'лимон', 'quantity': 1, 'measure': 'шт'},\n",
    "{'ingridient_name': 'вода', 'quantity': 200, 'measure': 'мл'},\n",
    "{'ingridient_name': 'сахар', 'quantity': 10, 'measure': 'гр'},\n",
    "{'ingridient_name': 'лайм', 'quantity': 20, 'measure': 'гр'},\n",
    "]\n",
    "}\n",
    "person = int(input ('Введите количество порций '))\n",
    "# Создаем пустой словарь, где будет находится список игредиентов по всем блюдам\n",
    "totals = {}\n",
    "\n",
    "for key in cook_book:\n",
    "#     print(f'key={key}')\n",
    "#     print(cook_book[key])\n",
    "    #Получаем словарь по каждому ингридиенту\n",
    "    for i in cook_book[key]:\n",
    "        \n",
    "        #Получаем имя ингредиента\n",
    "        ingrid_name = (i['ingridient_name'])\n",
    "        \n",
    "        #Выводим имя ингридиента\n",
    "        #print(f'ingrid_name = {ingrid_name}')\n",
    "        \n",
    "        #Выводим количество\n",
    "        #print(i['quantity'])\n",
    "        \n",
    "        \n",
    "#  Если ингредиент уже существует в списке, то мы его суммируем по количеству\n",
    "        \n",
    "        if totals.get(ingrid_name):\n",
    "#             print(f'totals[ingrid_name]={totals[ingrid_name]}')\n",
    "            sum_quantity = i['quantity'] + totals[ingrid_name][0]\n",
    "            totals[ingrid_name][0] = sum_quantity\n",
    "        else:\n",
    "#       Если ингредиент не существует, мы добавляем в словарь значения в виде списка - количество и мера\n",
    "            totals[ingrid_name] = [i['quantity'], i['measure']]\n",
    "          \n",
    "\n",
    "# Проходимся по ключам словаря и выводим имя ингредиента, его количество с учетом количества порций, меру\n",
    "for i in totals:\n",
    "    print(f'{i}: {totals[i][0]*person} {totals[i][1]}') \n",
    "        \n",
    "      "
   ]
  },
  {
   "cell_type": "code",
   "execution_count": null,
   "metadata": {},
   "outputs": [],
   "source": []
  }
 ],
 "metadata": {
  "kernelspec": {
   "display_name": "Python 3",
   "language": "python",
   "name": "python3"
  },
  "language_info": {
   "codemirror_mode": {
    "name": "ipython",
    "version": 3
   },
   "file_extension": ".py",
   "mimetype": "text/x-python",
   "name": "python",
   "nbconvert_exporter": "python",
   "pygments_lexer": "ipython3",
   "version": "3.8.3"
  }
 },
 "nbformat": 4,
 "nbformat_minor": 4
}
