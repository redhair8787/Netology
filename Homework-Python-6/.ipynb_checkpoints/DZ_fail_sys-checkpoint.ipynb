{
 "cells": [
  {
   "cell_type": "code",
   "execution_count": 2,
   "metadata": {},
   "outputs": [],
   "source": [
    "import json"
   ]
  },
  {
   "cell_type": "code",
   "execution_count": 8,
   "metadata": {},
   "outputs": [
    {
     "name": "stdout",
     "output_type": "stream",
     "text": [
      "Строительство и ремонт\n"
     ]
    }
   ],
   "source": [
    "purchases = {}\n",
    "\n",
    "with open('purchase_log.txt', 'r', encoding='utf-8') as f:\n",
    "     for line in f:\n",
    "            #Делаем из строки словарь\n",
    "            temp_dict=json.loads(line)\n",
    "#             print(temp_dict)\n",
    "            user_id = temp_dict['user_id']\n",
    "            category = temp_dict['category']           \n",
    "        \n",
    "            purchases[user_id] = category\n",
    "#     purchases = json.loads(f)\n",
    "# print(f'Cловарь purchases: {purchases}')\n",
    "print(purchases['89df00704c'])"
   ]
  },
  {
   "cell_type": "code",
   "execution_count": 49,
   "metadata": {},
   "outputs": [],
   "source": [
    "with open('visit_log.csv', 'r', encoding='utf-8') as f:\n",
    "    for line in f:\n",
    "#         print(line.split(',')[0])\n",
    "        user_id = line.split(',')[0]\n",
    "        \n",
    "        if user_id=='user_id':\n",
    "            continue\n",
    "                \n",
    "    \n",
    "        if user_id in purchases and purchases[user_id]:\n",
    "#             print(purchases[user_id])\n",
    "            new_line = line.strip()+','+purchases[user_id]\n",
    "#             print(new_line)\n",
    "            with open('funnel.csv', 'a', encoding='utf-8') as new_f:\n",
    "                new_f.write(new_line + '\\n')\n",
    "        else: \n",
    "            with open('funnel.csv', 'a', encoding='utf-8') as new_f:\n",
    "                new_f.write(line)\n",
    "                            \n",
    "    \n",
    "\n"
   ]
  },
  {
   "cell_type": "code",
   "execution_count": null,
   "metadata": {},
   "outputs": [],
   "source": []
  },
  {
   "cell_type": "code",
   "execution_count": null,
   "metadata": {},
   "outputs": [],
   "source": []
  }
 ],
 "metadata": {
  "kernelspec": {
   "display_name": "Python 3",
   "language": "python",
   "name": "python3"
  },
  "language_info": {
   "codemirror_mode": {
    "name": "ipython",
    "version": 3
   },
   "file_extension": ".py",
   "mimetype": "text/x-python",
   "name": "python",
   "nbconvert_exporter": "python",
   "pygments_lexer": "ipython3",
   "version": "3.8.3"
  }
 },
 "nbformat": 4,
 "nbformat_minor": 4
}
