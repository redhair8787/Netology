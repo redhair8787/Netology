{
 "cells": [
  {
   "cell_type": "markdown",
   "metadata": {},
   "source": [
    "Задание 1"
   ]
  },
  {
   "cell_type": "code",
   "execution_count": 2,
   "metadata": {},
   "outputs": [],
   "source": [
    "# Печатные газеты использовали свой формат дат для каждого выпуска. \n",
    "# Для каждой газеты из списка напишите формат указанной даты для перевода в объект datetime:\n",
    "moscow_times = 'Wednesday, October 2, 2002'\n",
    "guardian  =  'Friday, 11.10.13'\n",
    "daily_news = 'Thursday, 18 August 1977'"
   ]
  },
  {
   "cell_type": "code",
   "execution_count": 3,
   "metadata": {},
   "outputs": [],
   "source": [
    "from datetime import datetime"
   ]
  },
  {
   "cell_type": "code",
   "execution_count": 7,
   "metadata": {},
   "outputs": [
    {
     "data": {
      "text/plain": [
       "datetime.datetime(2002, 10, 2, 0, 0)"
      ]
     },
     "execution_count": 7,
     "metadata": {},
     "output_type": "execute_result"
    }
   ],
   "source": [
    "# переводим дату для moscow_times\n",
    "datetime_moscow_times = datetime.strptime(moscow_times, '%A, %B %d, %Y')\n",
    "datetime_moscow_times"
   ]
  },
  {
   "cell_type": "code",
   "execution_count": 8,
   "metadata": {},
   "outputs": [
    {
     "data": {
      "text/plain": [
       "datetime.datetime(2013, 10, 11, 0, 0)"
      ]
     },
     "execution_count": 8,
     "metadata": {},
     "output_type": "execute_result"
    }
   ],
   "source": [
    "# переводим дату для guardian\n",
    "datetime_guardian = datetime.strptime(guardian, '%A, %d.%m.%y')\n",
    "datetime_guardian"
   ]
  },
  {
   "cell_type": "code",
   "execution_count": 10,
   "metadata": {},
   "outputs": [
    {
     "data": {
      "text/plain": [
       "datetime.datetime(1977, 8, 18, 0, 0)"
      ]
     },
     "execution_count": 10,
     "metadata": {},
     "output_type": "execute_result"
    }
   ],
   "source": [
    "# переводим дату для daily_news\n",
    "datetime_daily_news = datetime.strptime(daily_news, '%A, %d %B %Y')\n",
    "datetime_daily_news                                        "
   ]
  },
  {
   "cell_type": "markdown",
   "metadata": {},
   "source": [
    "Задание 2"
   ]
  },
  {
   "cell_type": "code",
   "execution_count": 11,
   "metadata": {},
   "outputs": [],
   "source": [
    "# Дан поток дат в формате YYYY-MM-DD, в которых встречаются некорректные значения:\n",
    "# stream = [‘2018-04-02’, ‘2018-02-29’, ‘2018-19-02’]\n",
    "# Напишите функцию, которая проверяет эти даты на корректность. \n",
    "# Т. е. для каждой даты возвращает True (дата корректна) или False (некорректная дата)."
   ]
  },
  {
   "cell_type": "code",
   "execution_count": 48,
   "metadata": {},
   "outputs": [
    {
     "name": "stdout",
     "output_type": "stream",
     "text": [
      "True\n",
      "False\n",
      "False\n"
     ]
    }
   ],
   "source": [
    "stream = ['2018-04-02', '2018-02-29', '2018-19-02']\n",
    "\n",
    "from datetime import datetime\n",
    " \n",
    "        \n",
    "def time_2(data):\n",
    "    \n",
    "    for i in data:\n",
    "        try:\n",
    "            datetime_stream_i = datetime.strptime(i, '%Y-%m-%d')\n",
    "\n",
    "\n",
    "            print(True)\n",
    "                \n",
    "        except:\n",
    "            print(False)\n",
    " \n",
    "\n",
    "time_2(stream)"
   ]
  },
  {
   "cell_type": "markdown",
   "metadata": {},
   "source": [
    "Задание 3"
   ]
  },
  {
   "cell_type": "code",
   "execution_count": 25,
   "metadata": {},
   "outputs": [],
   "source": [
    "# Напишите функцию date_range, которая возвращает список дат за период от start_date до end_date. \n",
    "# Даты должны вводиться в формате YYYY-MM-DD. \n",
    "# В случае неверного формата или при start_date > end_date должен возвращаться пустой список."
   ]
  },
  {
   "cell_type": "code",
   "execution_count": 5,
   "metadata": {},
   "outputs": [
    {
     "name": "stdout",
     "output_type": "stream",
     "text": [
      "[]\n"
     ]
    }
   ],
   "source": [
    "from datetime import timedelta\n",
    "\n",
    "\n",
    "def date_range(start_date, end_date):\n",
    "    \n",
    "    try:\n",
    "        d_list = []\n",
    "        start_date_dt = datetime.strptime(start_date, '%Y-%m-%d')\n",
    "        end_date_dt = datetime.strptime(end_date, '%Y-%m-%d')\n",
    "        \n",
    "        \n",
    "    except:\n",
    "        return d_list\n",
    "    if start_date_dt > end_date_dt:\n",
    "        return d_list\n",
    "    \n",
    "        \n",
    "    current_dt = start_date_dt\n",
    "\n",
    "    while current_dt <= end_date_dt:\n",
    "        d_list.append(current_dt)\n",
    "#         print(current_dt.strftime('%Y-%m-%d'))\n",
    "    \n",
    "        current_dt += timedelta(days=1)\n",
    "\n",
    "    return d_list\n",
    "\n",
    "print(date_range('2020-13-08', '2020-12-30'))"
   ]
  },
  {
   "cell_type": "code",
   "execution_count": null,
   "metadata": {},
   "outputs": [],
   "source": []
  },
  {
   "cell_type": "code",
   "execution_count": null,
   "metadata": {},
   "outputs": [],
   "source": []
  }
 ],
 "metadata": {
  "kernelspec": {
   "display_name": "Python 3",
   "language": "python",
   "name": "python3"
  },
  "language_info": {
   "codemirror_mode": {
    "name": "ipython",
    "version": 3
   },
   "file_extension": ".py",
   "mimetype": "text/x-python",
   "name": "python",
   "nbconvert_exporter": "python",
   "pygments_lexer": "ipython3",
   "version": "3.8.3"
  }
 },
 "nbformat": 4,
 "nbformat_minor": 4
}
