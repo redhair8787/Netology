{
 "cells": [
  {
   "cell_type": "markdown",
   "metadata": {},
   "source": [
    "Задание 1\n",
    "Напишите функцию, которая принимает на вход строку и проверяет является ли она валидным транспортным номером (1 буква, 3 цифры, 2 буквы, 2-3 цифры). Обратите внимание, что не все буквы кириллического алфавита используются в транспортных номерах.\n",
    "\n",
    "Если номер валиден, то функция должна возвращать отдельно номер и регион.\n",
    "\n",
    "Примеры работы программы:\n",
    "\n",
    "car_id = 'A222BC96'\n",
    "Результат: Номер A222BС валиден. Регион: 96\n",
    "\n",
    "car_id = 'АБ22ВВ193'\n",
    "Результат: Номер не валиден"
   ]
  },
  {
   "cell_type": "code",
   "execution_count": 47,
   "metadata": {},
   "outputs": [],
   "source": [
    "import re"
   ]
  },
  {
   "cell_type": "code",
   "execution_count": 56,
   "metadata": {},
   "outputs": [
    {
     "name": "stdout",
     "output_type": "stream",
     "text": [
      "АБ22ВВ193\n",
      "Номер не валиден\n"
     ]
    }
   ],
   "source": [
    "car_id = str(input())\n",
    "def valid_transport_num(num_id):\n",
    "    \n",
    "    #Создаем шаблон для корректного номера\n",
    "    id_pattern = r'(\\w{1}\\d{3}\\w{2})(\\d{2,3})'\n",
    "    #Ищем совпадения по шаблону\n",
    "    valid = re.findall(id_pattern, num_id)\n",
    "\n",
    "    # Если совпадения есть, то выводим информацию о номере и регионе, в противном случае - номер не валиден\n",
    "    if valid:\n",
    "        valid_id_match = re.search(id_pattern, num_id)\n",
    "        valid_number = valid_id_match.group(1)\n",
    "        valid_region = valid_id_match.group(2)\n",
    "        print(f'Номер', valid_number, 'валиден. Регион', valid_region)\n",
    "    else:\n",
    "        print('Номер не валиден')\n",
    "valid_transport_num(car_id)"
   ]
  },
  {
   "cell_type": "markdown",
   "metadata": {},
   "source": [
    "Задание 2\n",
    "Напишите функцию, которая будет удалять все последовательные повторы слов из заданной строки при помощи регулярных выражений.\n",
    "\n",
    "Пример работы программы:\n",
    "\n",
    "some_string = 'Напишите функцию функцию, которая будет будет будет будет удалять все все все все последовательные повторы слов из из из из заданной строки строки при помощи регулярных выражений.'\n",
    "\n",
    "Результат:\n",
    "Напишите функцию, которая будет удалять все последовательные повторы слов из заданной строки при помощи регулярных выражений."
   ]
  },
  {
   "cell_type": "code",
   "execution_count": 68,
   "metadata": {},
   "outputs": [
    {
     "data": {
      "text/plain": [
       "'Напишите функцию, которая будет удалять все последовательные повторы слов из заданной строки при помощи регулярных выражений.'"
      ]
     },
     "execution_count": 68,
     "metadata": {},
     "output_type": "execute_result"
    }
   ],
   "source": [
    "some_string = \"\"\"Напишите функцию функцию, которая будет будет будет будет удалять все все все все последовательные повторы слов из из из из заданной строки строки при помощи регулярных выражений.\"\"\"\n",
    "def deleting_repeats(string):\n",
    "    #Задаем шаблон для поиска повторов\n",
    "    pattern_string = r'(?i)\\b(\\w+)(?:\\s+\\1\\b)+'\n",
    "    # re.findall(pattern_string, some_string)\n",
    "    \n",
    "#Заменяем повторы\n",
    "    new_string = re.sub(pattern_string, r'\\1', string)\n",
    "    return new_string\n",
    "# \n",
    "deleting_repeats(some_string)"
   ]
  },
  {
   "cell_type": "markdown",
   "metadata": {},
   "source": [
    "Задание 3\n",
    "Напишите функцию, которая будет возвращать акроним по переданной в нее строке со словами.\n",
    "\n",
    "Примеры работы программы:\n",
    "\n",
    "some_words = 'Информационные технологии'\n",
    "Результат: ИТ\n",
    "\n",
    "some_words = 'Near Field Communication'\n",
    "Результат: NFC"
   ]
  },
  {
   "cell_type": "code",
   "execution_count": 165,
   "metadata": {},
   "outputs": [
    {
     "name": "stdout",
     "output_type": "stream",
     "text": [
      "ИТ"
     ]
    }
   ],
   "source": [
    "some_words = 'Информационные технологии'\n",
    "\n",
    "def acronims(words):\n",
    "    #Переводим буквы в верхний регистр\n",
    "    capital_letters = words.upper()\n",
    "   \n",
    "    #Задаем шаблон, который берет только первые буквы каждого слова\n",
    "    words_pattern = r'\\b(\\w)'\n",
    "\n",
    "    for i in re.findall(words_pattern, capital_letters):\n",
    "\n",
    "\n",
    "        print(i, sep = '', end = '')\n",
    "\n",
    "acronims(some_words)"
   ]
  },
  {
   "cell_type": "code",
   "execution_count": null,
   "metadata": {},
   "outputs": [],
   "source": []
  },
  {
   "cell_type": "code",
   "execution_count": null,
   "metadata": {},
   "outputs": [],
   "source": [
    "# <!-- Задание 4\n",
    "# Напишите функцию, которая будет принимать на вход список email-адресов и выводить их распределение по доменным зонам.\n",
    "\n",
    "# Пример работы программы:\n",
    "\n",
    "# emails = ['test@gmail.com', 'xyz@test.in', 'test@ya.ru', 'xyz@mail.ru', 'xyz@ya.ru', 'xyz@gmail.com']\n",
    "\n",
    "# Результат:\n",
    "\n",
    "# gmail.com: 2\n",
    "# test.in: 1 \n",
    "# ya.ru: 2 \n",
    "# mail.ru: 1 -->"
   ]
  },
  {
   "cell_type": "code",
   "execution_count": 145,
   "metadata": {},
   "outputs": [
    {
     "name": "stdout",
     "output_type": "stream",
     "text": [
      "gmail.com: 2\n",
      "test.in: 1\n",
      "ya.ru: 2\n",
      "mail.ru: 1\n"
     ]
    }
   ],
   "source": [
    "emails = ['test@gmail.com', 'xyz@test.in', 'test@ya.ru', 'xyz@mail.ru', 'xyz@ya.ru', 'xyz@gmail.com']\n",
    "\n",
    "def counting_emails(list_of_emails):\n",
    "    #Задаем шаблоны для поиска определенных адресов\n",
    "    gmail_pattern = r'\\w\\@gmail\\.com'\n",
    "    test_pattern = r'\\w\\@test\\.in'\n",
    "    ya_pattern = r'\\w\\@ya\\.ru'\n",
    "    mail_pattern = r'\\w\\@mail\\.ru'\n",
    "#Задаем счетчики\n",
    "    gmail_count = 0\n",
    "    test_count = 0\n",
    "    ya_count = 0\n",
    "    mail_count = 0\n",
    "#задаем цикл, проходимся по списку и считаем количество вхождений\n",
    "    for i in list_of_emails:\n",
    "        if re.findall(gmail_pattern, i):\n",
    "            gmail_count+=1\n",
    "        if re.findall(test_pattern, i):\n",
    "            test_count+=1\n",
    "        if re.findall(ya_pattern, i):\n",
    "            ya_count+=1\n",
    "        if re.findall(mail_pattern, i):\n",
    "            mail_count+=1\n",
    "    print(f'gmail.com:', gmail_count)\n",
    "    print(f'test.in:', test_count)\n",
    "    print(f'ya.ru:', ya_count)\n",
    "    print(f'mail.ru:', mail_count)\n",
    "    \n",
    "counting_emails(emails)"
   ]
  },
  {
   "cell_type": "code",
   "execution_count": null,
   "metadata": {},
   "outputs": [],
   "source": []
  }
 ],
 "metadata": {
  "kernelspec": {
   "display_name": "Python 3",
   "language": "python",
   "name": "python3"
  },
  "language_info": {
   "codemirror_mode": {
    "name": "ipython",
    "version": 3
   },
   "file_extension": ".py",
   "mimetype": "text/x-python",
   "name": "python",
   "nbconvert_exporter": "python",
   "pygments_lexer": "ipython3",
   "version": "3.8.3"
  }
 },
 "nbformat": 4,
 "nbformat_minor": 4
}
